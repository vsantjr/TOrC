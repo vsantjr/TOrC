{
 "cells": [
  {
   "cell_type": "markdown",
   "metadata": {},
   "source": [
    "# ICSE 2022\n",
    "---\n",
    "\n",
    "**Article:** Evaluating Test Oracles based on Deep Neural Networks for Scientific Software\n",
    "\n",
    "**Licence**: GNU GENERAL PUBLIC LICENSE, Version 3 (GPLv3)\n",
    "\n",
    "\n",
    "\n",
    "This notebook is part of the implementation of the **Select Data** task of the **Test Oracle based on CNN** (TOrC) method presented in the abovementioned article. It relies on <a href=\"https://ieeexplore.ieee.org/document/1284395\">structural similarity</a> to devise sets with the most dissimilar images in order to have more representative samples and avoid data redundancy.\n",
    "\n",
    "\n"
   ]
  },
  {
   "cell_type": "code",
   "execution_count": null,
   "metadata": {},
   "outputs": [],
   "source": [
    "from skimage.metrics import structural_similarity as ssim\n",
    "import numpy as np\n",
    "import cv2\n",
    "import glob\n",
    "import itertools\n",
    "import operator\n",
    "import os\n"
   ]
  },
  {
   "cell_type": "markdown",
   "metadata": {},
   "source": [
    "# Structural similarity\n",
    "---\n",
    "\n",
    "Images are compared based on structural similarity according to a predefined limit (threshold). \n"
   ]
  },
  {
   "cell_type": "code",
   "execution_count": null,
   "metadata": {},
   "outputs": [],
   "source": [
    "def compare_images(im_n, limit = 0.85):\n",
    "    simd = {}\n",
    "    acc_simd = {}\n",
    "    disc_simd = {}\n",
    "    all_ind = []\n",
    "    \n",
    "    for i in im_n:\n",
    "        all_ind.append(i) ## All the keys\n",
    "    \n",
    "    for a, b in itertools.combinations(all_ind, 2):\n",
    "        simd[a+'  X  '+b] = ssim(im_n[a], im_n[b])\n",
    "    \n",
    "    acc_simd = simd.copy()\n",
    "    disc_simd = simd.copy()\n",
    "    \n",
    "    for s in simd:\n",
    "        if (simd[s] > limit):\n",
    "            del acc_simd[s]\n",
    "        else:\n",
    "            del disc_simd[s]\n",
    "             \n",
    "    return simd, acc_simd, disc_simd\n",
    "      "
   ]
  },
  {
   "cell_type": "markdown",
   "metadata": {},
   "source": [
    "# Find the best images\n",
    "---\n",
    "\n",
    "The best/most suitable images are then obtained where the best one presents a higher score in the file `...final.txt`. The function `find_best_images` assumes that the following directory structure has already been created within the output directory:\n",
    "\n",
    "<ul>\n",
    "<li>train</li>\n",
    "    <ul>\n",
    "        <li>correct</li>\n",
    "        <li>mutantd</li>\n",
    "     </ul>    \n",
    "<li>val</li>\n",
    "    <ul>\n",
    "        <li>correct</li>\n",
    "        <li>mutantd</li>\n",
    "     </ul>    \n",
    "</ul>\n",
    "\n",
    "Images of the training and validation datasets are automatically moved to the `train` and `val` directories, respectively. Note that you must work with `correct` or `mutantd` images separately. The parameter `output_end` defines the class which is being considered.\n"
   ]
  },
  {
   "cell_type": "code",
   "execution_count": null,
   "metadata": {},
   "outputs": [],
   "source": [
    "def find_best_images(input_file, input_dir, output_dir, output_end):\n",
    "    flat = open(input_file+'final.txt','w+')\n",
    "    file = open(input_file+'.txt', 'r')\n",
    "    unique = {}\n",
    "    \n",
    "    for line in file.readlines():\n",
    "        value = []\n",
    "        value = line.split()\n",
    "        if (value[0] in unique):\n",
    "            unique[value[0]] += 1\n",
    "        else:\n",
    "            unique[value[0]] = 1\n",
    "        \n",
    "        if (value[2] in unique):\n",
    "            unique[value[2]] += 1\n",
    "        else:\n",
    "            unique[value[2]] = 1   \n",
    "    \n",
    "  \n",
    "    sorted_unique = dict(sorted(unique.items(), key=operator.itemgetter(1),reverse=True))\n",
    "    \n",
    "    csel = 0\n",
    "    for i in sorted_unique:\n",
    "        flat.write(str(i)+ ' - ' + str(sorted_unique[i]) + '\\n')\n",
    "        csel+=1\n",
    "        if (csel <= 50):\n",
    "            if ((csel % 9) == 0) or ((csel % 10) == 0): # val set\n",
    "                os.rename(input_dir+str(i)+\".png\", output_dir+\"val/\"+output_end+\"/\"+str(i)+\".png\")\n",
    "            else: # train set\n",
    "                os.rename(input_dir+str(i)+\".png\", output_dir+\"train/\"+output_end+\"/\"+str(i)+\".png\")\n",
    "        \n",
    "    file.close()  \n",
    "    flat.close()    \n",
    "        "
   ]
  },
  {
   "cell_type": "markdown",
   "metadata": {},
   "source": [
    "# Handling files\n",
    "---\n",
    "\n",
    "Auxiliary functions to handle files.\n"
   ]
  },
  {
   "cell_type": "code",
   "execution_count": null,
   "metadata": {},
   "outputs": [],
   "source": [
    "def short_name(s):\n",
    "    ind=s.rfind(\"/\")\n",
    "    new_s=s[ind+1:-4]\n",
    "    return new_s\n",
    "    \n",
    "def save_files(data, name):\n",
    "    file = open(name+'.txt',\"w+\")\n",
    "    for i in data:\n",
    "        file.write(str(i)+ ' - ' + str(data[i]) + '\\n')\n",
    "    file.close()\n",
    "    print('length ' + name + ' :', len(data))\n",
    "    print('#######################################################\\n\\n')\n",
    "    "
   ]
  },
  {
   "cell_type": "markdown",
   "metadata": {},
   "source": [
    "# Main code\n",
    "---\n",
    "\n",
    "Run the main code."
   ]
  },
  {
   "cell_type": "code",
   "execution_count": null,
   "metadata": {},
   "outputs": [],
   "source": [
    "# Input directory\n",
    "dirimages =  \"/Users/valdivino/Documents/Des/pythonw/DL/pyTorch/TestOracle/versao4/input/\"\n",
    "# Output directory\n",
    "dirdest = \"/Users/valdivino/Documents/Des/pythonw/DL/pyTorch/TestOracle/versao4/output/\"\n",
    "\n",
    "im_name = {}\n",
    "for f in glob.iglob(dirimages+\"*.*\"):\n",
    "    image = cv2.imread(f)\n",
    "    # Convert the images to grayscale\n",
    "    image = cv2.cvtColor(image, cv2.COLOR_BGR2GRAY)\n",
    "    im_name[short_name(f)] = image\n",
    "\n",
    "\n",
    "# Compare the images based on a limit (threshold).\n",
    "orig, accepted, discarded = compare_images(im_name, limit = 0.85)\n",
    "\n",
    "# Save files.\n",
    "save_files(orig,'orig')\n",
    "save_files(accepted,'accepted')\n",
    "save_files(discarded,'discarded')\n",
    "\n",
    "# Find the best images. Choose the value of the last parameter according to the class: \"correct\" or \"mutantd\".\n",
    "find_best_images('accepted', dirimages, dirdest, \"correct\")\n"
   ]
  }
 ],
 "metadata": {
  "kernelspec": {
   "display_name": "Python 3",
   "language": "python",
   "name": "python3"
  },
  "language_info": {
   "codemirror_mode": {
    "name": "ipython",
    "version": 3
   },
   "file_extension": ".py",
   "mimetype": "text/x-python",
   "name": "python",
   "nbconvert_exporter": "python",
   "pygments_lexer": "ipython3",
   "version": "3.7.6"
  }
 },
 "nbformat": 4,
 "nbformat_minor": 4
}
